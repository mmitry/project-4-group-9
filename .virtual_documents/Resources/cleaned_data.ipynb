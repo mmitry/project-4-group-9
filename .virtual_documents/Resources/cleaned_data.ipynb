import pandas as pd


df = pd.read_csv("alzheimers_disease_data.csv")
df.head()                 


 df.info()


df = df.drop(columns=["EducationLevel", "DoctorInCharge"])


print(df.columns)


df.to_csv('../Resources/cleaned_alzheimers_disease_data.csv')



