{
 "cells": [
  {
   "cell_type": "code",
   "execution_count": 8,
   "id": "e5c6e846-e801-40bb-995a-444d80cc9c77",
   "metadata": {},
   "outputs": [],
   "source": [
    "import pandas as pd\n",
    "import numpy as np\n",
    "import pickle"
   ]
  },
  {
   "cell_type": "code",
   "execution_count": 9,
   "id": "3680c078-ab08-4b60-90e2-de6882412a1a",
   "metadata": {},
   "outputs": [],
   "source": [
    "#load model\n",
    "model = pickle.load(open(\"Alzheimers_model_pipeline.h5\", 'rb'))"
   ]
  },
  {
   "cell_type": "code",
   "execution_count": null,
   "id": "cd364967-3d3a-4b7b-a48e-6d68c08a42ae",
   "metadata": {},
   "outputs": [],
   "source": [
    "#numeric_features = ['Age', 'BMI', 'AlcoholConsumption', 'PhysicalActivity', 'DietQuality', 'SleepQuality', 'FunctionalAssessment']\n",
    "\n",
    "#binary_features = ['Smoking', 'FamilyHistoryAlzheimers', 'CardiovascularDisease', 'Diabetes', 'Depression', 'HeadInjury', 'Hypertension', 'MemoryComplaints', 'BehavioralProblems', 'Confusion', 'Disorientation', 'PersonalityChanges','DifficultyCompletingTasks','Forgetfulness']\n",
    "#categorical_features = ['Gender', 'Ethnicity']"
   ]
  },
  {
   "cell_type": "code",
   "execution_count": 10,
   "id": "0bb55596-3a31-4f89-8c42-cee6aa8a6766",
   "metadata": {},
   "outputs": [],
   "source": [
    "age = 72\n",
    "gender = 1\n",
    "ethnicity = 2\n",
    "bmi= 22.9\n",
    "smoking = 0\n",
    "alcohol_consumption = 13.29\n",
    "physical_activity = 6.3\n",
    "diet_quality = 1.34\n",
    "sleep_quality = 9.02\n",
    "family_history_alzheimers = 0\n",
    "cardiovascular_disease = 0\n",
    "diabetes = 1\n",
    "depression = 1\n",
    "head_injury = 0\n",
    "hypertension = 0\n",
    "functional_assessment = 6.15\n",
    "memory_complaints = 0\n",
    "behavioral_problems = 0 \n",
    "confusion = 0\n",
    "disorientation = 0\n",
    "personality_changes = 0\n",
    "difficulty_completing_tasks = 1\n",
    "forgetfulness = 0"
   ]
  },
  {
   "cell_type": "code",
   "execution_count": 11,
   "id": "a01a1d62-5fec-4734-a67d-d8af39f40bc1",
   "metadata": {},
   "outputs": [
    {
     "data": {
      "text/plain": [
       "array([[0.96, 0.04]])"
      ]
     },
     "execution_count": 11,
     "metadata": {},
     "output_type": "execute_result"
    }
   ],
   "source": [
    "df = pd.DataFrame()\n",
    "df[\"Age\"] = [age]\n",
    "df[\"Gender\"] = [gender]\n",
    "df[\"Ethnicity\"] = [ethnicity]\n",
    "df[\"BMI\"] = [bmi]\n",
    "df[\"Smoking\"] = [smoking]\n",
    "df[\"AlcoholConsumption\"] = [alcohol_consumption]\n",
    "df[\"PhysicalActivity\"] = [physical_activity]\n",
    "df[\"DietQuality\"] = [diet_quality]\n",
    "df[\"SleepQuality\"] = [sleep_quality]\n",
    "df[\"FamilyHistoryAlzheimers\"] = [family_history_alzheimers]\n",
    "df[\"CardiovascularDisease\"] = [cardiovascular_disease]\n",
    "df[\"Diabetes\"] = [diabetes]\n",
    "df[\"Depression\"] = [depression]\n",
    "df[\"HeadInjury\"] = [head_injury]\n",
    "df[\"Hypertension\"] = [hypertension]\n",
    "df[\"FunctionalAssessment\"] = [functional_assessment]\n",
    "df[\"MemoryComplaints\"] = [memory_complaints]\n",
    "df[\"BehavioralProblems\"] = [behavioral_problems]\n",
    "df[\"Confusion\"] = [confusion]\n",
    "df[\"Disorientation\"] = [disorientation]\n",
    "df[\"PersonalityChanges\"] = [personality_changes]\n",
    "df[\"DifficultyCompletingTasks\"] = [difficulty_completing_tasks]\n",
    "df[\"Forgetfulness\"] = [forgetfulness]\n",
    "    \n",
    "preds = model.predict_proba(df)\n",
    "preds"
   ]
  },
  {
   "cell_type": "code",
   "execution_count": 12,
   "id": "ff0f6ce3-d594-4c5a-9078-2b9b91f53112",
   "metadata": {},
   "outputs": [
    {
     "name": "stdout",
     "output_type": "stream",
     "text": [
      "0.04 0.96\n"
     ]
    }
   ],
   "source": [
    "Positive_Diagnosis = preds[0][1]\n",
    "Negative_Diagnosis = preds[0][0]\n",
    "\n",
    "print(Positive_Diagnosis, Negative_Diagnosis)"
   ]
  },
  {
   "cell_type": "code",
   "execution_count": 14,
   "id": "83134da2-5656-4ceb-820c-fcbc4b980dc0",
   "metadata": {},
   "outputs": [],
   "source": [
    "def make_predictions(age, gender, ethnicity, bmi, smoking, alcohol_consumption, physical_activity, diet_quality, sleep_quality, family_history_alzheimers,\t\n",
    "                    cardiovascular_disease, diabetes, depression, head_injury,\thypertension, functional_assessment, memory_complaints, behavioral_problems,\n",
    "                    confusion, disorientation, personality_changes, difficulty_completing_tasks, forgetfulness):\n",
    "    df = pd.DataFrame()\n",
    "    df[\"Age\"] = [age]\n",
    "    df[\"Gender\"] = [gender]\n",
    "    df[\"Ethnicity\"] = [ethnicity]\n",
    "    df[\"BMI\"] = [bmi]\n",
    "    df[\"Smoking\"] = [smoking]\n",
    "    df[\"AlcoholConsumption\"] = [alcohol_consumption]\n",
    "    df[\"PhysicalActivity\"] = [physical_activity]\n",
    "    df[\"DietQuality\"] = [diet_quality]\n",
    "    df[\"SleepQuality\"] = [sleep_quality]\n",
    "    df[\"FamilyHistoryAlzheimers\"] = [family_history_alzheimers]\n",
    "    df[\"CardiovascularDisease\"] = [cardiovascular_disease]\n",
    "    df[\"Diabetes\"] = [diabetes]\n",
    "    df[\"Depression\"] = [depression]\n",
    "    df[\"HeadInjury\"] = [head_injury]\n",
    "    df[\"Hypertension\"] = [hypertension]\n",
    "    df[\"FunctionalAssessment\"] = [functional_assessment]\n",
    "    df[\"MemoryComplaints\"] = [memory_complaints]\n",
    "    df[\"BehavioralProblems\"] = [behavioral_problems]\n",
    "    df[\"Confusion\"] = [confusion]\n",
    "    df[\"Disorientation\"] = [disorientation]\n",
    "    df[\"PersonalityChanges\"] = [personality_changes]\n",
    "    df[\"DifficultyCompletingTasks\"] = [difficulty_completing_tasks]\n",
    "    df[\"Forgetfulness\"] = [forgetfulness]\n",
    "\n",
    "    # Load model\n",
    "    model = pickle.load(open(\"Alzheimers_model_pipeline.h5\", 'rb'))\n",
    "    \n",
    "    preds = model.predict_proba(df)\n",
    "    Positive_Diagnosis = preds[0][1]\n",
    "\n",
    "    return(Positive_Diagnosis)"
   ]
  },
  {
   "cell_type": "code",
   "execution_count": 16,
   "id": "99613f88-af5e-4e7a-8036-fbba2fdaf081",
   "metadata": {},
   "outputs": [
    {
     "data": {
      "text/plain": [
       "0.2"
      ]
     },
     "execution_count": 16,
     "metadata": {},
     "output_type": "execute_result"
    }
   ],
   "source": [
    "age = 64\n",
    "gender = 0\n",
    "ethnicity = 0\n",
    "bmi= 26.9\n",
    "smoking = 1\n",
    "alcohol_consumption = 3.29\n",
    "physical_activity = 1.3\n",
    "diet_quality = 10.34\n",
    "sleep_quality = 2.02\n",
    "family_history_alzheimers = 1\n",
    "cardiovascular_disease = 0\n",
    "diabetes = 0\n",
    "depression = 0\n",
    "head_injury = 0\n",
    "hypertension = 1\n",
    "functional_assessment = 6.15\n",
    "memory_complaints = 0\n",
    "behavioral_problems = 0 \n",
    "confusion = 1\n",
    "disorientation = 1\n",
    "personality_changes = 0\n",
    "difficulty_completing_tasks = 0\n",
    "forgetfulness = 1\n",
    "\n",
    "make_predictions(age, gender, ethnicity, bmi, smoking, alcohol_consumption, physical_activity, diet_quality, sleep_quality, family_history_alzheimers,\t\n",
    "                cardiovascular_disease, diabetes, depression, head_injury,\thypertension, functional_assessment, memory_complaints, behavioral_problems,\n",
    "                confusion, disorientation, personality_changes, difficulty_completing_tasks, forgetfulness)"
   ]
  },
  {
   "cell_type": "code",
   "execution_count": null,
   "id": "8ac5811f-4cb8-4317-b06d-2f50051e2d9e",
   "metadata": {},
   "outputs": [],
   "source": []
  }
 ],
 "metadata": {
  "kernelspec": {
   "display_name": "Python 3 (ipykernel)",
   "language": "python",
   "name": "python3"
  },
  "language_info": {
   "codemirror_mode": {
    "name": "ipython",
    "version": 3
   },
   "file_extension": ".py",
   "mimetype": "text/x-python",
   "name": "python",
   "nbconvert_exporter": "python",
   "pygments_lexer": "ipython3",
   "version": "3.10.12"
  }
 },
 "nbformat": 4,
 "nbformat_minor": 5
}
